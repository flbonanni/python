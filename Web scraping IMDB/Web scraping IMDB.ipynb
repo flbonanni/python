{
 "cells": [
  {
   "cell_type": "markdown",
   "id": "4eacee99",
   "metadata": {},
   "source": [
    "### IDMB.com Scraping"
   ]
  },
  {
   "cell_type": "code",
   "execution_count": 27,
   "id": "41f4371b",
   "metadata": {},
   "outputs": [],
   "source": [
    "import pandas as pd\n",
    "import requests\n",
    "from bs4 import BeautifulSoup"
   ]
  },
  {
   "attachments": {},
   "cell_type": "markdown",
   "id": "9755cc5e-1608-4bfd-9c59-3906adeab1e2",
   "metadata": {},
   "source": [
    "Used the following code to produce a list of the titles of the 250 most rated movies in the [IMDB website](https://www.imdb.com/chart/top/?ref_=nv_mv_250): "
   ]
  },
  {
   "cell_type": "code",
   "execution_count": 28,
   "id": "99ba9eef-35ba-49dd-94c3-e47aa4645467",
   "metadata": {},
   "outputs": [
    {
     "data": {
      "text/html": [
       "<div>\n",
       "<style scoped>\n",
       "    .dataframe tbody tr th:only-of-type {\n",
       "        vertical-align: middle;\n",
       "    }\n",
       "\n",
       "    .dataframe tbody tr th {\n",
       "        vertical-align: top;\n",
       "    }\n",
       "\n",
       "    .dataframe thead th {\n",
       "        text-align: right;\n",
       "    }\n",
       "</style>\n",
       "<table border=\"1\" class=\"dataframe\">\n",
       "  <thead>\n",
       "    <tr style=\"text-align: right;\">\n",
       "      <th></th>\n",
       "      <th>name</th>\n",
       "      <th>cast</th>\n",
       "    </tr>\n",
       "  </thead>\n",
       "  <tbody>\n",
       "    <tr>\n",
       "      <th>0</th>\n",
       "      <td>The Shawshank Redemption</td>\n",
       "      <td>Frank Darabont (dir.), Tim Robbins, Morgan Fre...</td>\n",
       "    </tr>\n",
       "    <tr>\n",
       "      <th>1</th>\n",
       "      <td>The Godfather</td>\n",
       "      <td>Francis Ford Coppola (dir.), Marlon Brando, Al...</td>\n",
       "    </tr>\n",
       "    <tr>\n",
       "      <th>2</th>\n",
       "      <td>The Dark Knight</td>\n",
       "      <td>Christopher Nolan (dir.), Christian Bale, Heat...</td>\n",
       "    </tr>\n",
       "    <tr>\n",
       "      <th>3</th>\n",
       "      <td>The Godfather Part II</td>\n",
       "      <td>Francis Ford Coppola (dir.), Al Pacino, Robert...</td>\n",
       "    </tr>\n",
       "    <tr>\n",
       "      <th>4</th>\n",
       "      <td>12 Angry Men</td>\n",
       "      <td>Sidney Lumet (dir.), Henry Fonda, Lee J. Cobb</td>\n",
       "    </tr>\n",
       "  </tbody>\n",
       "</table>\n",
       "</div>"
      ],
      "text/plain": [
       "                       name                                               cast\n",
       "0  The Shawshank Redemption  Frank Darabont (dir.), Tim Robbins, Morgan Fre...\n",
       "1             The Godfather  Francis Ford Coppola (dir.), Marlon Brando, Al...\n",
       "2           The Dark Knight  Christopher Nolan (dir.), Christian Bale, Heat...\n",
       "3     The Godfather Part II  Francis Ford Coppola (dir.), Al Pacino, Robert...\n",
       "4              12 Angry Men      Sidney Lumet (dir.), Henry Fonda, Lee J. Cobb"
      ]
     },
     "execution_count": 28,
     "metadata": {},
     "output_type": "execute_result"
    }
   ],
   "source": [
    "url = 'https://www.imdb.com/chart/top/?ref_=nv_mv_250'\n",
    "page = requests.get(url, headers={'Accept-Language': \"lang=en-US\"})\n",
    "soup = BeautifulSoup(page.content, \"html.parser\")\n",
    "movies = soup.find_all('td', class_='titleColumn')\n",
    "movie_names = []\n",
    "for m in movies: \n",
    "    movie_names.append(m.find('a').text)\n",
    "movie_cast = []\n",
    "for m in movies: \n",
    "    movie_cast.append(m.find('a').attrs.get('title'))\n",
    "df_movies = pd.DataFrame(\n",
    "    {'name': movie_names,\n",
    "     'cast': movie_cast\n",
    "    })\n",
    "df_movies.head()"
   ]
  },
  {
   "attachments": {},
   "cell_type": "markdown",
   "id": "eab3ecae-79d5-49c2-a421-b7861e5ce616",
   "metadata": {},
   "source": [
    "1. Ran the code above in order to produce a DataFrame called `df_movies` that contains all the movie titles and cast in the source website."
   ]
  },
  {
   "cell_type": "code",
   "execution_count": 29,
   "id": "d5f8921c-2ab1-4595-945c-4392a3fdbe3b",
   "metadata": {},
   "outputs": [
    {
     "data": {
      "text/plain": [
       "(250, 2)"
      ]
     },
     "execution_count": 29,
     "metadata": {},
     "output_type": "execute_result"
    }
   ],
   "source": [
    "df_movies.shape"
   ]
  },
  {
   "attachments": {},
   "cell_type": "markdown",
   "id": "1a1c39aa-43a8-4a4b-97dc-4d400a4b7d09",
   "metadata": {},
   "source": [
    "2. Using the same logic seen above, produced a new list, called `movie year`, containing the year in which the movie was produced. "
   ]
  },
  {
   "cell_type": "code",
   "execution_count": 30,
   "id": "6f71fd6c-48c8-4ad6-9837-44603b177c5a",
   "metadata": {},
   "outputs": [],
   "source": [
    "movie_year = []\n",
    "for m in movies: \n",
    "    movie_year.append(m.find('span').text)"
   ]
  },
  {
   "cell_type": "code",
   "execution_count": 31,
   "id": "d17ae853",
   "metadata": {},
   "outputs": [
    {
     "data": {
      "text/plain": [
       "250"
      ]
     },
     "execution_count": 31,
     "metadata": {},
     "output_type": "execute_result"
    }
   ],
   "source": [
    "movie_year[0:5]\n",
    "len(movie_year)"
   ]
  },
  {
   "attachments": {},
   "cell_type": "markdown",
   "id": "3eec22f4-ac66-4030-bff0-d141c1ee11c1",
   "metadata": {},
   "source": [
    "3. Using the same logic seen above, produced a new list, called `movie_rating_data`, containing the contents of the element `<td class=\"ratingColumn imdbRating\"> ... </td>`. \n",
    "- *Note: first found all elements of tag `td` and parameter `class='ratingColumn imdbRating'`, then for each one of those elements, extracted the `title` attribute of the `strong` tag.*"
   ]
  },
  {
   "cell_type": "code",
   "execution_count": 32,
   "id": "be0eea1a-69d8-462b-a653-aaa31098b367",
   "metadata": {},
   "outputs": [],
   "source": [
    "movie_rating_column = soup.find_all('td', class_='ratingColumn imdbRating')\n",
    "movie_rating_data = []\n",
    "for m in movie_rating_column: \n",
    "    movie_rating_data.append(m.find('strong').attrs.get('title'))"
   ]
  },
  {
   "cell_type": "code",
   "execution_count": 33,
   "id": "4a3f061c",
   "metadata": {},
   "outputs": [
    {
     "data": {
      "text/plain": [
       "['9.2 based on 2,747,800 user ratings',\n",
       " '9.2 based on 1,911,163 user ratings',\n",
       " '9.0 based on 2,720,508 user ratings',\n",
       " '9.0 based on 1,301,870 user ratings',\n",
       " '9.0 based on 813,655 user ratings']"
      ]
     },
     "execution_count": 33,
     "metadata": {},
     "output_type": "execute_result"
    }
   ],
   "source": [
    "movie_rating_data[0:5]"
   ]
  },
  {
   "attachments": {},
   "cell_type": "markdown",
   "id": "b59112c0-0344-4599-b9b0-ef9fcbb88e2b",
   "metadata": {},
   "source": [
    "4. Created two more lists `movie_rating` and `movie_voters` that store the rating of the movie and the total number of voters, respectively. "
   ]
  },
  {
   "cell_type": "code",
   "execution_count": 34,
   "id": "9f9d3799",
   "metadata": {},
   "outputs": [
    {
     "data": {
      "text/plain": [
       "['9.2', 'based', 'on', '2,747,800', 'user', 'ratings']"
      ]
     },
     "execution_count": 34,
     "metadata": {},
     "output_type": "execute_result"
    }
   ],
   "source": [
    "movie_rating_data[0].split(\" \")"
   ]
  },
  {
   "cell_type": "code",
   "execution_count": 35,
   "id": "f15c4da2-f2bb-492b-8aca-e29517a1ddde",
   "metadata": {},
   "outputs": [],
   "source": [
    "movie_rating = []\n",
    "movie_voters = []\n",
    "\n",
    "for movie_rating_datum in movie_rating_data:\n",
    "    split = movie_rating_datum.split(\" \")\n",
    "    movie_rating.append(split[0])\n",
    "    movie_voters.append(split[3])"
   ]
  },
  {
   "attachments": {},
   "cell_type": "markdown",
   "id": "2366e366-f564-482c-bdc2-20161f278aca",
   "metadata": {},
   "source": [
    "5. Given the three lists I just created, added to the existing `df_movies` DataFrame three new columns called `year`, `rating` and `voters` columns. Then added a new column to the same DataFrame called `rank` that shows the ranking of each movie from 1 to 250."
   ]
  },
  {
   "cell_type": "code",
   "execution_count": 36,
   "id": "139f1ef5-253e-44d3-bf47-30cbe0cd5816",
   "metadata": {},
   "outputs": [],
   "source": [
    "df_movies['year'] = movie_year\n",
    "df_movies['rating'] = movie_rating\n",
    "df_movies['voters'] = movie_voters"
   ]
  },
  {
   "cell_type": "code",
   "execution_count": 37,
   "id": "87d55b79",
   "metadata": {},
   "outputs": [
    {
     "data": {
      "text/html": [
       "<div>\n",
       "<style scoped>\n",
       "    .dataframe tbody tr th:only-of-type {\n",
       "        vertical-align: middle;\n",
       "    }\n",
       "\n",
       "    .dataframe tbody tr th {\n",
       "        vertical-align: top;\n",
       "    }\n",
       "\n",
       "    .dataframe thead th {\n",
       "        text-align: right;\n",
       "    }\n",
       "</style>\n",
       "<table border=\"1\" class=\"dataframe\">\n",
       "  <thead>\n",
       "    <tr style=\"text-align: right;\">\n",
       "      <th></th>\n",
       "      <th>name</th>\n",
       "      <th>cast</th>\n",
       "      <th>year</th>\n",
       "      <th>rating</th>\n",
       "      <th>voters</th>\n",
       "    </tr>\n",
       "  </thead>\n",
       "  <tbody>\n",
       "    <tr>\n",
       "      <th>0</th>\n",
       "      <td>The Shawshank Redemption</td>\n",
       "      <td>Frank Darabont (dir.), Tim Robbins, Morgan Fre...</td>\n",
       "      <td>(1994)</td>\n",
       "      <td>9.2</td>\n",
       "      <td>2,747,800</td>\n",
       "    </tr>\n",
       "    <tr>\n",
       "      <th>1</th>\n",
       "      <td>The Godfather</td>\n",
       "      <td>Francis Ford Coppola (dir.), Marlon Brando, Al...</td>\n",
       "      <td>(1972)</td>\n",
       "      <td>9.2</td>\n",
       "      <td>1,911,163</td>\n",
       "    </tr>\n",
       "    <tr>\n",
       "      <th>2</th>\n",
       "      <td>The Dark Knight</td>\n",
       "      <td>Christopher Nolan (dir.), Christian Bale, Heat...</td>\n",
       "      <td>(2008)</td>\n",
       "      <td>9.0</td>\n",
       "      <td>2,720,508</td>\n",
       "    </tr>\n",
       "    <tr>\n",
       "      <th>3</th>\n",
       "      <td>The Godfather Part II</td>\n",
       "      <td>Francis Ford Coppola (dir.), Al Pacino, Robert...</td>\n",
       "      <td>(1974)</td>\n",
       "      <td>9.0</td>\n",
       "      <td>1,301,870</td>\n",
       "    </tr>\n",
       "    <tr>\n",
       "      <th>4</th>\n",
       "      <td>12 Angry Men</td>\n",
       "      <td>Sidney Lumet (dir.), Henry Fonda, Lee J. Cobb</td>\n",
       "      <td>(1957)</td>\n",
       "      <td>9.0</td>\n",
       "      <td>813,655</td>\n",
       "    </tr>\n",
       "  </tbody>\n",
       "</table>\n",
       "</div>"
      ],
      "text/plain": [
       "                       name  \\\n",
       "0  The Shawshank Redemption   \n",
       "1             The Godfather   \n",
       "2           The Dark Knight   \n",
       "3     The Godfather Part II   \n",
       "4              12 Angry Men   \n",
       "\n",
       "                                                cast    year rating     voters  \n",
       "0  Frank Darabont (dir.), Tim Robbins, Morgan Fre...  (1994)    9.2  2,747,800  \n",
       "1  Francis Ford Coppola (dir.), Marlon Brando, Al...  (1972)    9.2  1,911,163  \n",
       "2  Christopher Nolan (dir.), Christian Bale, Heat...  (2008)    9.0  2,720,508  \n",
       "3  Francis Ford Coppola (dir.), Al Pacino, Robert...  (1974)    9.0  1,301,870  \n",
       "4      Sidney Lumet (dir.), Henry Fonda, Lee J. Cobb  (1957)    9.0    813,655  "
      ]
     },
     "execution_count": 37,
     "metadata": {},
     "output_type": "execute_result"
    }
   ],
   "source": [
    "df_movies.head()"
   ]
  },
  {
   "cell_type": "code",
   "execution_count": 38,
   "id": "8fede1bc",
   "metadata": {},
   "outputs": [],
   "source": [
    "df_movies['rank'] = df_movies.index + 1"
   ]
  },
  {
   "cell_type": "code",
   "execution_count": 41,
   "id": "fbf07986",
   "metadata": {},
   "outputs": [
    {
     "data": {
      "text/html": [
       "<div>\n",
       "<style scoped>\n",
       "    .dataframe tbody tr th:only-of-type {\n",
       "        vertical-align: middle;\n",
       "    }\n",
       "\n",
       "    .dataframe tbody tr th {\n",
       "        vertical-align: top;\n",
       "    }\n",
       "\n",
       "    .dataframe thead th {\n",
       "        text-align: right;\n",
       "    }\n",
       "</style>\n",
       "<table border=\"1\" class=\"dataframe\">\n",
       "  <thead>\n",
       "    <tr style=\"text-align: right;\">\n",
       "      <th></th>\n",
       "      <th>name</th>\n",
       "      <th>cast</th>\n",
       "      <th>year</th>\n",
       "      <th>rating</th>\n",
       "      <th>voters</th>\n",
       "      <th>rank</th>\n",
       "    </tr>\n",
       "  </thead>\n",
       "  <tbody>\n",
       "    <tr>\n",
       "      <th>0</th>\n",
       "      <td>The Shawshank Redemption</td>\n",
       "      <td>Frank Darabont (dir.), Tim Robbins, Morgan Fre...</td>\n",
       "      <td>(1994)</td>\n",
       "      <td>9.2</td>\n",
       "      <td>2,747,800</td>\n",
       "      <td>1</td>\n",
       "    </tr>\n",
       "    <tr>\n",
       "      <th>1</th>\n",
       "      <td>The Godfather</td>\n",
       "      <td>Francis Ford Coppola (dir.), Marlon Brando, Al...</td>\n",
       "      <td>(1972)</td>\n",
       "      <td>9.2</td>\n",
       "      <td>1,911,163</td>\n",
       "      <td>2</td>\n",
       "    </tr>\n",
       "    <tr>\n",
       "      <th>2</th>\n",
       "      <td>The Dark Knight</td>\n",
       "      <td>Christopher Nolan (dir.), Christian Bale, Heat...</td>\n",
       "      <td>(2008)</td>\n",
       "      <td>9.0</td>\n",
       "      <td>2,720,508</td>\n",
       "      <td>3</td>\n",
       "    </tr>\n",
       "    <tr>\n",
       "      <th>3</th>\n",
       "      <td>The Godfather Part II</td>\n",
       "      <td>Francis Ford Coppola (dir.), Al Pacino, Robert...</td>\n",
       "      <td>(1974)</td>\n",
       "      <td>9.0</td>\n",
       "      <td>1,301,870</td>\n",
       "      <td>4</td>\n",
       "    </tr>\n",
       "    <tr>\n",
       "      <th>4</th>\n",
       "      <td>12 Angry Men</td>\n",
       "      <td>Sidney Lumet (dir.), Henry Fonda, Lee J. Cobb</td>\n",
       "      <td>(1957)</td>\n",
       "      <td>9.0</td>\n",
       "      <td>813,655</td>\n",
       "      <td>5</td>\n",
       "    </tr>\n",
       "  </tbody>\n",
       "</table>\n",
       "</div>"
      ],
      "text/plain": [
       "                       name  \\\n",
       "0  The Shawshank Redemption   \n",
       "1             The Godfather   \n",
       "2           The Dark Knight   \n",
       "3     The Godfather Part II   \n",
       "4              12 Angry Men   \n",
       "\n",
       "                                                cast    year rating  \\\n",
       "0  Frank Darabont (dir.), Tim Robbins, Morgan Fre...  (1994)    9.2   \n",
       "1  Francis Ford Coppola (dir.), Marlon Brando, Al...  (1972)    9.2   \n",
       "2  Christopher Nolan (dir.), Christian Bale, Heat...  (2008)    9.0   \n",
       "3  Francis Ford Coppola (dir.), Al Pacino, Robert...  (1974)    9.0   \n",
       "4      Sidney Lumet (dir.), Henry Fonda, Lee J. Cobb  (1957)    9.0   \n",
       "\n",
       "      voters  rank  \n",
       "0  2,747,800     1  \n",
       "1  1,911,163     2  \n",
       "2  2,720,508     3  \n",
       "3  1,301,870     4  \n",
       "4    813,655     5  "
      ]
     },
     "execution_count": 41,
     "metadata": {},
     "output_type": "execute_result"
    }
   ],
   "source": [
    "df_movies.head()"
   ]
  }
 ],
 "metadata": {
  "kernelspec": {
   "display_name": "boolean_test",
   "language": "python",
   "name": "python3"
  },
  "language_info": {
   "codemirror_mode": {
    "name": "ipython",
    "version": 3
   },
   "file_extension": ".py",
   "mimetype": "text/x-python",
   "name": "python",
   "nbconvert_exporter": "python",
   "pygments_lexer": "ipython3",
   "version": "3.9.16"
  },
  "vscode": {
   "interpreter": {
    "hash": "73623d196747e5b3d80c723d80242b21504262153e28333ffcad801f7d821645"
   }
  }
 },
 "nbformat": 4,
 "nbformat_minor": 5
}
